{
 "cells": [
  {
   "cell_type": "markdown",
   "id": "2790247a",
   "metadata": {},
   "source": [
    "Case Study on Testing of Hypothesis<br>\n",
    "A company started to invest in digital marketing as a new way of their product<br>\n",
    "promotions.For that they collected data and decided to carry out a study on it.<br>\n",
    "● The company wishes to clarify whether there is any increase in sales after<br>\n",
    "stepping into digital marketing.<br>\n",
    "● The company needs to check whether there is any dependency between the<br>\n",
    "features “Region” and “Manager”.<br>\n",
    "Help the company to carry out their study with the help of data provided.<br>"
   ]
  },
  {
   "cell_type": "code",
   "execution_count": 1,
   "id": "d82640b0",
   "metadata": {},
   "outputs": [],
   "source": [
    "import numpy as np\n",
    "import pandas as pd \n",
    "import matplotlib.pyplot as plt\n",
    "import seaborn as sns\n",
    "import scipy.stats as st \n",
    "import statsmodels.api as sm\n",
    "import pylab as py\n"
   ]
  },
  {
   "cell_type": "code",
   "execution_count": 2,
   "id": "5588091e",
   "metadata": {},
   "outputs": [],
   "source": [
    "#Step1: Import data \n",
    "salesdata = pd.read_csv('Sales_add.csv')"
   ]
  },
  {
   "cell_type": "code",
   "execution_count": 3,
   "id": "8fd3e505",
   "metadata": {},
   "outputs": [
    {
     "data": {
      "text/html": [
       "<div>\n",
       "<style scoped>\n",
       "    .dataframe tbody tr th:only-of-type {\n",
       "        vertical-align: middle;\n",
       "    }\n",
       "\n",
       "    .dataframe tbody tr th {\n",
       "        vertical-align: top;\n",
       "    }\n",
       "\n",
       "    .dataframe thead th {\n",
       "        text-align: right;\n",
       "    }\n",
       "</style>\n",
       "<table border=\"1\" class=\"dataframe\">\n",
       "  <thead>\n",
       "    <tr style=\"text-align: right;\">\n",
       "      <th></th>\n",
       "      <th>Month</th>\n",
       "      <th>Region</th>\n",
       "      <th>Manager</th>\n",
       "      <th>Sales_before_digital_add(in $)</th>\n",
       "      <th>Sales_After_digital_add(in $)</th>\n",
       "    </tr>\n",
       "  </thead>\n",
       "  <tbody>\n",
       "    <tr>\n",
       "      <th>0</th>\n",
       "      <td>Month-1</td>\n",
       "      <td>Region - A</td>\n",
       "      <td>Manager - A</td>\n",
       "      <td>132921</td>\n",
       "      <td>270390</td>\n",
       "    </tr>\n",
       "    <tr>\n",
       "      <th>1</th>\n",
       "      <td>Month-2</td>\n",
       "      <td>Region - A</td>\n",
       "      <td>Manager - C</td>\n",
       "      <td>149559</td>\n",
       "      <td>223334</td>\n",
       "    </tr>\n",
       "    <tr>\n",
       "      <th>2</th>\n",
       "      <td>Month-3</td>\n",
       "      <td>Region - B</td>\n",
       "      <td>Manager - A</td>\n",
       "      <td>146278</td>\n",
       "      <td>244243</td>\n",
       "    </tr>\n",
       "    <tr>\n",
       "      <th>3</th>\n",
       "      <td>Month-4</td>\n",
       "      <td>Region - B</td>\n",
       "      <td>Manager - B</td>\n",
       "      <td>152167</td>\n",
       "      <td>231808</td>\n",
       "    </tr>\n",
       "    <tr>\n",
       "      <th>4</th>\n",
       "      <td>Month-5</td>\n",
       "      <td>Region - C</td>\n",
       "      <td>Manager - B</td>\n",
       "      <td>159525</td>\n",
       "      <td>258402</td>\n",
       "    </tr>\n",
       "  </tbody>\n",
       "</table>\n",
       "</div>"
      ],
      "text/plain": [
       "     Month      Region      Manager  Sales_before_digital_add(in $)  \\\n",
       "0  Month-1  Region - A  Manager - A                          132921   \n",
       "1  Month-2  Region - A  Manager - C                          149559   \n",
       "2  Month-3  Region - B  Manager - A                          146278   \n",
       "3  Month-4  Region - B  Manager - B                          152167   \n",
       "4  Month-5  Region - C  Manager - B                          159525   \n",
       "\n",
       "   Sales_After_digital_add(in $)  \n",
       "0                         270390  \n",
       "1                         223334  \n",
       "2                         244243  \n",
       "3                         231808  \n",
       "4                         258402  "
      ]
     },
     "execution_count": 3,
     "metadata": {},
     "output_type": "execute_result"
    }
   ],
   "source": [
    "#Step2: Undestand the data and check for null values \n",
    "salesdata.head()"
   ]
  },
  {
   "cell_type": "code",
   "execution_count": 4,
   "id": "6c20ef0f",
   "metadata": {},
   "outputs": [
    {
     "name": "stdout",
     "output_type": "stream",
     "text": [
      "<class 'pandas.core.frame.DataFrame'>\n",
      "RangeIndex: 22 entries, 0 to 21\n",
      "Data columns (total 5 columns):\n",
      " #   Column                          Non-Null Count  Dtype \n",
      "---  ------                          --------------  ----- \n",
      " 0   Month                           22 non-null     object\n",
      " 1   Region                          22 non-null     object\n",
      " 2   Manager                         22 non-null     object\n",
      " 3   Sales_before_digital_add(in $)  22 non-null     int64 \n",
      " 4   Sales_After_digital_add(in $)   22 non-null     int64 \n",
      "dtypes: int64(2), object(3)\n",
      "memory usage: 1008.0+ bytes\n"
     ]
    }
   ],
   "source": [
    "salesdata.info()"
   ]
  },
  {
   "cell_type": "code",
   "execution_count": 5,
   "id": "b3dc2dc0",
   "metadata": {},
   "outputs": [
    {
     "data": {
      "text/html": [
       "<div>\n",
       "<style scoped>\n",
       "    .dataframe tbody tr th:only-of-type {\n",
       "        vertical-align: middle;\n",
       "    }\n",
       "\n",
       "    .dataframe tbody tr th {\n",
       "        vertical-align: top;\n",
       "    }\n",
       "\n",
       "    .dataframe thead th {\n",
       "        text-align: right;\n",
       "    }\n",
       "</style>\n",
       "<table border=\"1\" class=\"dataframe\">\n",
       "  <thead>\n",
       "    <tr style=\"text-align: right;\">\n",
       "      <th></th>\n",
       "      <th>Sales_before_digital_add(in $)</th>\n",
       "      <th>Sales_After_digital_add(in $)</th>\n",
       "    </tr>\n",
       "  </thead>\n",
       "  <tbody>\n",
       "    <tr>\n",
       "      <th>count</th>\n",
       "      <td>22.000000</td>\n",
       "      <td>22.000000</td>\n",
       "    </tr>\n",
       "    <tr>\n",
       "      <th>mean</th>\n",
       "      <td>149239.954545</td>\n",
       "      <td>231123.727273</td>\n",
       "    </tr>\n",
       "    <tr>\n",
       "      <th>std</th>\n",
       "      <td>14844.042921</td>\n",
       "      <td>25556.777061</td>\n",
       "    </tr>\n",
       "    <tr>\n",
       "      <th>min</th>\n",
       "      <td>130263.000000</td>\n",
       "      <td>187305.000000</td>\n",
       "    </tr>\n",
       "    <tr>\n",
       "      <th>25%</th>\n",
       "      <td>138087.750000</td>\n",
       "      <td>214960.750000</td>\n",
       "    </tr>\n",
       "    <tr>\n",
       "      <th>50%</th>\n",
       "      <td>147444.000000</td>\n",
       "      <td>229986.500000</td>\n",
       "    </tr>\n",
       "    <tr>\n",
       "      <th>75%</th>\n",
       "      <td>157627.500000</td>\n",
       "      <td>250909.000000</td>\n",
       "    </tr>\n",
       "    <tr>\n",
       "      <th>max</th>\n",
       "      <td>178939.000000</td>\n",
       "      <td>276279.000000</td>\n",
       "    </tr>\n",
       "  </tbody>\n",
       "</table>\n",
       "</div>"
      ],
      "text/plain": [
       "       Sales_before_digital_add(in $)  Sales_After_digital_add(in $)\n",
       "count                       22.000000                      22.000000\n",
       "mean                    149239.954545                  231123.727273\n",
       "std                      14844.042921                   25556.777061\n",
       "min                     130263.000000                  187305.000000\n",
       "25%                     138087.750000                  214960.750000\n",
       "50%                     147444.000000                  229986.500000\n",
       "75%                     157627.500000                  250909.000000\n",
       "max                     178939.000000                  276279.000000"
      ]
     },
     "execution_count": 5,
     "metadata": {},
     "output_type": "execute_result"
    }
   ],
   "source": [
    "salesdata.describe()"
   ]
  },
  {
   "cell_type": "code",
   "execution_count": 6,
   "id": "4228ec67",
   "metadata": {},
   "outputs": [],
   "source": [
    "#Step 3: Define the hypothesis\n",
    "# Null hypothesis H0 is that there is no increase in sales because of digital marketing. \n",
    "#ie. d = Mu1 - Mu2 = 0\n",
    "\n",
    "#Alternative hypothesis is that sales have increased because of digital marketing.\n",
    "#i.e d = Mu1 - Mu2 < 0 \n",
    "\n",
    "#Step 4:\n",
    "#Decide on the alpha value (or α value). This involves determining the risk you are willing to take of \n",
    "#drawing the wrong conclusion. For example, suppose you set α=0.05 when comparing two independent groups. \n",
    "#Here, I have decided on a 5% risk of concluding the unknown population means are different when they are not.\n"
   ]
  },
  {
   "cell_type": "code",
   "execution_count": 7,
   "id": "1f963836",
   "metadata": {},
   "outputs": [],
   "source": [
    "#Step 5: \n",
    "#Check the assumptions for paired t-test.\n",
    "#In order for the paired sample t-test results to be trusted, the following assumptions need to be met:\n",
    "#1.The dependent variable must be continuous which is measured on an interval or ratio scale\n",
    "   #Since its monthly sale's data, data is continuous and measured on an interval scale\n",
    "# 2. Observations are randomly selected \n",
    "# 3. The observations are independent\n",
    "# 4. The dependent variable should be approximately normally distributed.\n",
    "   #The paired sample t-test is robust to this violation. If there is a violation of normality, \n",
    "   #as long as it’s not in a major violation the test results can be considered valid\n",
    "# 5.The dependent variable should not contain any significant outliers\n",
    "#If any of these assumptions are violated, a different test should be used. \n",
    "#An alternative to the paired sample t-test is the Wilcoxon signed-rank Test"
   ]
  },
  {
   "cell_type": "code",
   "execution_count": 8,
   "id": "dc259631",
   "metadata": {},
   "outputs": [
    {
     "data": {
      "text/plain": [
       "<AxesSubplot:>"
      ]
     },
     "execution_count": 8,
     "metadata": {},
     "output_type": "execute_result"
    },
    {
     "data": {
      "image/png": "[encoded data removed]",
      "text/plain": [
       "<Figure size 432x288 with 1 Axes>"
      ]
     },
     "metadata": {
      "needs_background": "light"
     },
     "output_type": "display_data"
    }
   ],
   "source": [
    "#Checking for outliers\n",
    "\n",
    "sns.boxplot(data=salesdata[['Sales_before_digital_add(in $)','Sales_After_digital_add(in $)']])\n"
   ]
  },
  {
   "cell_type": "markdown",
   "id": "2ba2e45a",
   "metadata": {},
   "source": [
    "There doesn’t appear to be any significant outliers in the variables. <br>\n",
    "Next we will see if the observations are normally distributed. \n"
   ]
  },
  {
   "cell_type": "code",
   "execution_count": 9,
   "id": "1b01c527",
   "metadata": {},
   "outputs": [
    {
     "data": {
      "text/plain": [
       "Text(0, 0.5, 'Frequency')"
      ]
     },
     "execution_count": 9,
     "metadata": {},
     "output_type": "execute_result"
    },
    {
     "data": {
      "image/png": "[encoded data removed]",
      "text/plain": [
       "<Figure size 432x288 with 1 Axes>"
      ]
     },
     "metadata": {
      "needs_background": "light"
     },
     "output_type": "display_data"
    }
   ],
   "source": [
    "plt.hist(salesdata['Sales_before_digital_add(in $)'])\n",
    "plt.xlabel('Sales_before_digital_add(in $)')\n",
    "plt.ylabel('Frequency')"
   ]
  },
  {
   "cell_type": "code",
   "execution_count": 10,
   "id": "8f7bae5f",
   "metadata": {},
   "outputs": [
    {
     "data": {
      "text/plain": [
       "Text(0, 0.5, 'Frequency')"
      ]
     },
     "execution_count": 10,
     "metadata": {},
     "output_type": "execute_result"
    },
    {
     "data": {
      "image/png": "[encoded data removed]",
      "text/plain": [
       "<Figure size 432x288 with 1 Axes>"
      ]
     },
     "metadata": {
      "needs_background": "light"
     },
     "output_type": "display_data"
    }
   ],
   "source": [
    "plt.hist(salesdata['Sales_After_digital_add(in $)'])\n",
    "plt.xlabel('Sales_After_digital_add(in $)')\n",
    "plt.ylabel('Frequency')"
   ]
  },
  {
   "cell_type": "markdown",
   "id": "401702a6",
   "metadata": {},
   "source": [
    "The histograms of our data does not seem to be normally distributed. <br>\n",
    "Let’s test this statistically to see if the data is normally distributed.<br>\n",
    "To test this, one can use the Shapiro-Wilk test for normality. <br>"
   ]
  },
  {
   "cell_type": "code",
   "execution_count": 11,
   "id": "ff517c99",
   "metadata": {},
   "outputs": [
    {
     "data": {
      "text/plain": [
       "ShapiroResult(statistic=0.9306764006614685, pvalue=0.12674309313297272)"
      ]
     },
     "execution_count": 11,
     "metadata": {},
     "output_type": "execute_result"
    }
   ],
   "source": [
    "#Perform the Shapiro-Wilk test for normality.\n",
    "#The Shapiro-Wilk test tests the null hypothesis that the data was drawn from a normal distribution.\n",
    "#The first value is the W test value, and the second value it the p-value.\n",
    "#If the p value of the Shapiro-Wilk Test is greater than 0.05, the data is normal.\n",
    "#If it is below 0.05, the data significantly deviate from a normal distribution.\n",
    "\n",
    "st.shapiro(salesdata['Sales_before_digital_add(in $)'])"
   ]
  },
  {
   "cell_type": "code",
   "execution_count": 12,
   "id": "223f8647",
   "metadata": {},
   "outputs": [
    {
     "data": {
      "text/plain": [
       "ShapiroResult(statistic=0.9702125191688538, pvalue=0.7159563302993774)"
      ]
     },
     "execution_count": 12,
     "metadata": {},
     "output_type": "execute_result"
    }
   ],
   "source": [
    "st.shapiro(salesdata['Sales_After_digital_add(in $)'])"
   ]
  },
  {
   "cell_type": "markdown",
   "id": "30f16986",
   "metadata": {},
   "source": [
    "Since both the p values are greater than 0.05, we can conculde that the data is normal. <br>\n",
    "Now that all the assumptions and conditions for paired sample t-test are met, we can proceed. <br>"
   ]
  },
  {
   "cell_type": "code",
   "execution_count": 23,
   "id": "e081282f",
   "metadata": {},
   "outputs": [
    {
     "name": "stdout",
     "output_type": "stream",
     "text": [
      "Test statistic is -12.090705\n",
      "p-value for one_tailed_test is 3.168333502287889e-11\n",
      "Conclusion \n",
      " Since p-value(=0.000000) < alpha(=0.05) We reject the null hypothesis H0. \n",
      "\n",
      "So we conclude that there is increase in sales because of digital marketing. i.e., d < 0 at 0.05 level of significance.\n"
     ]
    }
   ],
   "source": [
    "# using st.ttest_rel to test pair sample t test\n",
    "t_value, one_tailed_p_value = st.ttest_rel(salesdata['Sales_before_digital_add(in $)'], salesdata['Sales_After_digital_add(in $)'],alternative = 'less')\n",
    "\n",
    "print('Test statistic is %f'%float(\"{:.6f}\".format(t_value)))\n",
    "\n",
    "print('p-value for one_tailed_test is',one_tailed_p_value)\n",
    "\n",
    "alpha = 0.05\n",
    "\n",
    "if one_tailed_p_value<=alpha:\n",
    "\n",
    "    print('Conclusion','\\n','Since p-value(=%f)'%one_tailed_p_value,'<','alpha(=%.2f)'%alpha,'''We reject the null hypothesis H0. \n",
    "\n",
    "So we conclude that there is increase in sales because of digital marketing. i.e., d < 0 at %.2f level of significance.'''%alpha)\n",
    "\n",
    "else:\n",
    "\n",
    "    print('Conclusion','\\n','Since p-value(=%f)'%one_tailed_p_value,'>','alpha(=%.2f)'%alpha,'''We fail to reject the null hypothesis H0. \n",
    "\n",
    "So we conclude that sales have not increased because of digital marketing. i.e., d = 0 at %.2f level of significance.'''%alpha)"
   ]
  },
  {
   "cell_type": "code",
   "execution_count": 14,
   "id": "e085417d",
   "metadata": {},
   "outputs": [],
   "source": [
    "#Now Lets check if there is dependency between varibale. Region and Manager \n",
    "#Region and Manager are Categorical variables. \n",
    "#Chi-Square test is a statistical test which is used to find out the difference between the observed and \n",
    "#the expected data. \n",
    "#We can also use this test to find the correlation between categorical variables in our data. \n",
    "#The purpose of this test is to determine if the difference between 2 categorical variables is due to chance,\n",
    "#or if it is due to a relationship between them.\n",
    "\n",
    "#Conduct the test we have to conduct 2 hypothesis. \n",
    "#Null Hypothesis H0 -  There is no relationship between the variables Region and Manager \n",
    "#Alternative Hypotheis H1 -  There is relationship between variables Region and Manager \n",
    "\n",
    "#If the p-value obtained after conducting the test is less than 0.05 we reject the Null hypothesis\n",
    "#and accept the Alternate hypothesis \n",
    "#If the p-value is greater that 0.05 we fail to reject the Null hypothesis."
   ]
  },
  {
   "cell_type": "code",
   "execution_count": 15,
   "id": "f3e82b64",
   "metadata": {},
   "outputs": [
    {
     "name": "stdout",
     "output_type": "stream",
     "text": [
      "Manager     Manager - A  Manager - B  Manager - C  All\n",
      "Region                                                \n",
      "Region - A            4            3            3   10\n",
      "Region - B            4            1            2    7\n",
      "Region - C            1            3            1    5\n",
      "All                   9            7            6   22\n"
     ]
    }
   ],
   "source": [
    "crosstab = pd.crosstab(salesdata['Region'],salesdata['Manager'],margins=True)\n",
    "print(crosstab)"
   ]
  },
  {
   "cell_type": "code",
   "execution_count": 16,
   "id": "93a08f4d",
   "metadata": {},
   "outputs": [
    {
     "name": "stdout",
     "output_type": "stream",
     "text": [
      "Statistical value =  3.050566893424036\n",
      "p value =  0.5493991051158094\n",
      "Degrees of freedom =  4\n",
      "The p-value > 0.05 we fail to reject the Null hypothesis \n",
      " There is no dependency between variables region and manager\n"
     ]
    }
   ],
   "source": [
    "value = crosstab.iloc[0:3,0:3] #observations without totals \n",
    "#using st.chi2_contigency()\n",
    "test_value,p_value,dof = st.chi2_contingency(value)[0:3]\n",
    "print('Statistical value = ', test_value )\n",
    "print('p value = ', p_value )\n",
    "print('Degrees of freedom = ', dof ) #(3-1)*(3-1)\n",
    "if  p_value < 0.05:\n",
    "    print('The p-value < 0.05 we reject the Null hypothesis and accept the Alternate hypothesis','\\n',\n",
    "          'There is dependency between variables region and manager')\n",
    "else:\n",
    "    print('The p-value > 0.05 we fail to reject the Null hypothesis','\\n',\n",
    "          'There is no dependency between variables region and manager')\n",
    "    "
   ]
  },
  {
   "cell_type": "code",
   "execution_count": null,
   "id": "facb6068",
   "metadata": {},
   "outputs": [],
   "source": []
  }
 ],
 "metadata": {
  "kernelspec": {
   "display_name": "Python 3 (ipykernel)",
   "language": "python",
   "name": "python3"
  },
  "language_info": {
   "codemirror_mode": {
    "name": "ipython",
    "version": 3
   },
   "file_extension": ".py",
   "mimetype": "text/x-python",
   "name": "python",
   "nbconvert_exporter": "python",
   "pygments_lexer": "ipython3",
   "version": "3.9.7"
  }
 },
 "nbformat": 4,
 "nbformat_minor": 5
}
